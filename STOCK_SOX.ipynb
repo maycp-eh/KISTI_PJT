{
  "nbformat": 4,
  "nbformat_minor": 0,
  "metadata": {
    "colab": {
      "name": "STOCK_SOX.ipynb",
      "provenance": [],
      "authorship_tag": "ABX9TyORnr0/qtmj+qtjlVospK8F"
    },
    "kernelspec": {
      "name": "python3",
      "display_name": "Python 3"
    }
  },
  "cells": [
    {
      "cell_type": "code",
      "metadata": {
        "id": "r3NgGTpIYAtw",
        "colab_type": "code",
        "colab": {
          "base_uri": "https://localhost:8080/",
          "height": 35
        },
        "outputId": "42c7981a-0ab9-41b6-8764-f134d293a2a5"
      },
      "source": [
        "!pip install ipython-autotime\n",
        "%load_ext autotime"
      ],
      "execution_count": null,
      "outputs": [
        {
          "output_type": "stream",
          "text": [
            "Requirement already satisfied: ipython-autotime in /usr/local/lib/python3.6/dist-packages (0.1)\n"
          ],
          "name": "stdout"
        }
      ]
    },
    {
      "cell_type": "code",
      "metadata": {
        "id": "fvIyBnzrJcd4",
        "colab_type": "code",
        "colab": {
          "base_uri": "https://localhost:8080/",
          "height": 215
        },
        "outputId": "9fb121d6-4b5c-4489-9cb9-b0512c9c2366"
      },
      "source": [
        "!pip install mplfinance"
      ],
      "execution_count": null,
      "outputs": [
        {
          "output_type": "stream",
          "text": [
            "Requirement already satisfied: mplfinance in /usr/local/lib/python3.6/dist-packages (0.12.7a0)\n",
            "Requirement already satisfied: matplotlib in /usr/local/lib/python3.6/dist-packages (from mplfinance) (3.2.2)\n",
            "Requirement already satisfied: pandas in /usr/local/lib/python3.6/dist-packages (from mplfinance) (1.0.5)\n",
            "Requirement already satisfied: python-dateutil>=2.1 in /usr/local/lib/python3.6/dist-packages (from matplotlib->mplfinance) (2.8.1)\n",
            "Requirement already satisfied: cycler>=0.10 in /usr/local/lib/python3.6/dist-packages (from matplotlib->mplfinance) (0.10.0)\n",
            "Requirement already satisfied: pyparsing!=2.0.4,!=2.1.2,!=2.1.6,>=2.0.1 in /usr/local/lib/python3.6/dist-packages (from matplotlib->mplfinance) (2.4.7)\n",
            "Requirement already satisfied: kiwisolver>=1.0.1 in /usr/local/lib/python3.6/dist-packages (from matplotlib->mplfinance) (1.2.0)\n",
            "Requirement already satisfied: numpy>=1.11 in /usr/local/lib/python3.6/dist-packages (from matplotlib->mplfinance) (1.18.5)\n",
            "Requirement already satisfied: pytz>=2017.2 in /usr/local/lib/python3.6/dist-packages (from pandas->mplfinance) (2018.9)\n",
            "Requirement already satisfied: six>=1.5 in /usr/local/lib/python3.6/dist-packages (from python-dateutil>=2.1->matplotlib->mplfinance) (1.15.0)\n",
            "time: 2.43 s\n"
          ],
          "name": "stdout"
        }
      ]
    },
    {
      "cell_type": "code",
      "metadata": {
        "id": "HOUkSr4VbWJn",
        "colab_type": "code",
        "colab": {
          "base_uri": "https://localhost:8080/",
          "height": 53
        },
        "outputId": "dec1b89c-485d-479e-a94f-e27e20c01e4c"
      },
      "source": [
        "from google.colab import drive\n",
        "drive.mount('/gdrive')"
      ],
      "execution_count": null,
      "outputs": [
        {
          "output_type": "stream",
          "text": [
            "Drive already mounted at /gdrive; to attempt to forcibly remount, call drive.mount(\"/gdrive\", force_remount=True).\n",
            "time: 4.7 ms\n"
          ],
          "name": "stdout"
        }
      ]
    },
    {
      "cell_type": "code",
      "metadata": {
        "id": "_77oI4jsbwfQ",
        "colab_type": "code",
        "colab": {
          "base_uri": "https://localhost:8080/",
          "height": 53
        },
        "outputId": "6c6eb55d-295c-4b0c-d86a-5954a1bb76db"
      },
      "source": [
        "%cd /gdrive/My Drive/KISTI_STOCK/DATA"
      ],
      "execution_count": null,
      "outputs": [
        {
          "output_type": "stream",
          "text": [
            "/gdrive/My Drive/KISTI_STOCK/DATA\n",
            "time: 5.06 ms\n"
          ],
          "name": "stdout"
        }
      ]
    },
    {
      "cell_type": "code",
      "metadata": {
        "id": "V0lqen-Uh1m1",
        "colab_type": "code",
        "colab": {
          "base_uri": "https://localhost:8080/",
          "height": 71
        },
        "outputId": "06c924b0-c746-46e1-c072-2d34bcaa2ae9"
      },
      "source": [
        "import pandas as pd\n",
        "import numpy as np\n",
        "from datetime import datetime\n",
        "import re\n",
        "import matplotlib.pyplot as plt\n",
        "import seaborn as sns\n",
        "import mplfinance as mpf"
      ],
      "execution_count": null,
      "outputs": [
        {
          "output_type": "stream",
          "text": [
            "time: 358 ms\n"
          ],
          "name": "stdout"
        },
        {
          "output_type": "stream",
          "text": [
            "/usr/local/lib/python3.6/dist-packages/statsmodels/tools/_testing.py:19: FutureWarning: pandas.util.testing is deprecated. Use the functions in the public API at pandas.testing instead.\n",
            "  import pandas.util.testing as tm\n"
          ],
          "name": "stderr"
        }
      ]
    },
    {
      "cell_type": "code",
      "metadata": {
        "id": "uWAmKiedmFUZ",
        "colab_type": "code",
        "colab": {
          "base_uri": "https://localhost:8080/",
          "height": 35
        },
        "outputId": "ad047a35-fb0f-41d9-97ed-e16f44d344e1"
      },
      "source": [
        "def data_info(df) :\n",
        "    print(f'shape : {df.shape}')\n",
        "    print(f'dtypes : {df.dtypes}')\n",
        "    display(df.head())"
      ],
      "execution_count": null,
      "outputs": [
        {
          "output_type": "stream",
          "text": [
            "time: 2.68 ms\n"
          ],
          "name": "stdout"
        }
      ]
    },
    {
      "cell_type": "code",
      "metadata": {
        "id": "NPAxbaWkkbKd",
        "colab_type": "code",
        "colab": {
          "base_uri": "https://localhost:8080/",
          "height": 733
        },
        "outputId": "914e2aab-91f0-4540-ca8c-876e556352b0"
      },
      "source": [
        "stock = pd.read_csv(\"SSE2015-01-01_2020-06-30.csv\")\n",
        "phlx = pd.read_csv(\"Philadelphia Semiconductor Index.csv\")\n",
        "\n",
        "data_info(stock)\n",
        "data_info(phlx)"
      ],
      "execution_count": null,
      "outputs": [
        {
          "output_type": "stream",
          "text": [
            "shape : (1347, 7)\n",
            "dtypes : Date       object\n",
            "Open        int64\n",
            "High        int64\n",
            "Low         int64\n",
            "Close       int64\n",
            "Volume      int64\n",
            "Change    float64\n",
            "dtype: object\n"
          ],
          "name": "stdout"
        },
        {
          "output_type": "display_data",
          "data": {
            "text/html": [
              "<div>\n",
              "<style scoped>\n",
              "    .dataframe tbody tr th:only-of-type {\n",
              "        vertical-align: middle;\n",
              "    }\n",
              "\n",
              "    .dataframe tbody tr th {\n",
              "        vertical-align: top;\n",
              "    }\n",
              "\n",
              "    .dataframe thead th {\n",
              "        text-align: right;\n",
              "    }\n",
              "</style>\n",
              "<table border=\"1\" class=\"dataframe\">\n",
              "  <thead>\n",
              "    <tr style=\"text-align: right;\">\n",
              "      <th></th>\n",
              "      <th>Date</th>\n",
              "      <th>Open</th>\n",
              "      <th>High</th>\n",
              "      <th>Low</th>\n",
              "      <th>Close</th>\n",
              "      <th>Volume</th>\n",
              "      <th>Change</th>\n",
              "    </tr>\n",
              "  </thead>\n",
              "  <tbody>\n",
              "    <tr>\n",
              "      <th>0</th>\n",
              "      <td>2015-01-02</td>\n",
              "      <td>26799</td>\n",
              "      <td>26799</td>\n",
              "      <td>26540</td>\n",
              "      <td>26600</td>\n",
              "      <td>175499</td>\n",
              "      <td>0.002261</td>\n",
              "    </tr>\n",
              "    <tr>\n",
              "      <th>1</th>\n",
              "      <td>2015-01-05</td>\n",
              "      <td>26720</td>\n",
              "      <td>26720</td>\n",
              "      <td>26260</td>\n",
              "      <td>26660</td>\n",
              "      <td>202790</td>\n",
              "      <td>0.002256</td>\n",
              "    </tr>\n",
              "    <tr>\n",
              "      <th>2</th>\n",
              "      <td>2015-01-06</td>\n",
              "      <td>26300</td>\n",
              "      <td>26340</td>\n",
              "      <td>25760</td>\n",
              "      <td>25900</td>\n",
              "      <td>304710</td>\n",
              "      <td>-0.028507</td>\n",
              "    </tr>\n",
              "    <tr>\n",
              "      <th>3</th>\n",
              "      <td>2015-01-07</td>\n",
              "      <td>25880</td>\n",
              "      <td>26220</td>\n",
              "      <td>25640</td>\n",
              "      <td>26140</td>\n",
              "      <td>286455</td>\n",
              "      <td>0.009266</td>\n",
              "    </tr>\n",
              "    <tr>\n",
              "      <th>4</th>\n",
              "      <td>2015-01-08</td>\n",
              "      <td>26780</td>\n",
              "      <td>26780</td>\n",
              "      <td>26199</td>\n",
              "      <td>26280</td>\n",
              "      <td>289552</td>\n",
              "      <td>0.005356</td>\n",
              "    </tr>\n",
              "  </tbody>\n",
              "</table>\n",
              "</div>"
            ],
            "text/plain": [
              "         Date   Open   High    Low  Close  Volume    Change\n",
              "0  2015-01-02  26799  26799  26540  26600  175499  0.002261\n",
              "1  2015-01-05  26720  26720  26260  26660  202790  0.002256\n",
              "2  2015-01-06  26300  26340  25760  25900  304710 -0.028507\n",
              "3  2015-01-07  25880  26220  25640  26140  286455  0.009266\n",
              "4  2015-01-08  26780  26780  26199  26280  289552  0.005356"
            ]
          },
          "metadata": {
            "tags": []
          }
        },
        {
          "output_type": "stream",
          "text": [
            "shape : (1383, 7)\n",
            "dtypes : 날짜      object\n",
            "종가      object\n",
            "오픈      object\n",
            "고가      object\n",
            "저가      object\n",
            "거래량     object\n",
            "변동 %    object\n",
            "dtype: object\n"
          ],
          "name": "stdout"
        },
        {
          "output_type": "display_data",
          "data": {
            "text/html": [
              "<div>\n",
              "<style scoped>\n",
              "    .dataframe tbody tr th:only-of-type {\n",
              "        vertical-align: middle;\n",
              "    }\n",
              "\n",
              "    .dataframe tbody tr th {\n",
              "        vertical-align: top;\n",
              "    }\n",
              "\n",
              "    .dataframe thead th {\n",
              "        text-align: right;\n",
              "    }\n",
              "</style>\n",
              "<table border=\"1\" class=\"dataframe\">\n",
              "  <thead>\n",
              "    <tr style=\"text-align: right;\">\n",
              "      <th></th>\n",
              "      <th>날짜</th>\n",
              "      <th>종가</th>\n",
              "      <th>오픈</th>\n",
              "      <th>고가</th>\n",
              "      <th>저가</th>\n",
              "      <th>거래량</th>\n",
              "      <th>변동 %</th>\n",
              "    </tr>\n",
              "  </thead>\n",
              "  <tbody>\n",
              "    <tr>\n",
              "      <th>0</th>\n",
              "      <td>2020년 06월 30일</td>\n",
              "      <td>1,996.44</td>\n",
              "      <td>1,954.54</td>\n",
              "      <td>2,002.08</td>\n",
              "      <td>1,953.22</td>\n",
              "      <td>-</td>\n",
              "      <td>2.70%</td>\n",
              "    </tr>\n",
              "    <tr>\n",
              "      <th>1</th>\n",
              "      <td>2020년 06월 29일</td>\n",
              "      <td>1,943.90</td>\n",
              "      <td>1,924.80</td>\n",
              "      <td>1,944.64</td>\n",
              "      <td>1,899.80</td>\n",
              "      <td>-</td>\n",
              "      <td>1.14%</td>\n",
              "    </tr>\n",
              "    <tr>\n",
              "      <th>2</th>\n",
              "      <td>2020년 06월 26일</td>\n",
              "      <td>1,921.92</td>\n",
              "      <td>1,959.50</td>\n",
              "      <td>1,964.01</td>\n",
              "      <td>1,917.83</td>\n",
              "      <td>-</td>\n",
              "      <td>-2.00%</td>\n",
              "    </tr>\n",
              "    <tr>\n",
              "      <th>3</th>\n",
              "      <td>2020년 06월 25일</td>\n",
              "      <td>1,961.05</td>\n",
              "      <td>1,941.59</td>\n",
              "      <td>1,963.72</td>\n",
              "      <td>1,914.30</td>\n",
              "      <td>-</td>\n",
              "      <td>0.86%</td>\n",
              "    </tr>\n",
              "    <tr>\n",
              "      <th>4</th>\n",
              "      <td>2020년 06월 24일</td>\n",
              "      <td>1,944.30</td>\n",
              "      <td>1,976.63</td>\n",
              "      <td>1,988.23</td>\n",
              "      <td>1,930.69</td>\n",
              "      <td>-</td>\n",
              "      <td>-2.18%</td>\n",
              "    </tr>\n",
              "  </tbody>\n",
              "</table>\n",
              "</div>"
            ],
            "text/plain": [
              "              날짜        종가        오픈        고가        저가 거래량    변동 %\n",
              "0  2020년 06월 30일  1,996.44  1,954.54  2,002.08  1,953.22   -   2.70%\n",
              "1  2020년 06월 29일  1,943.90  1,924.80  1,944.64  1,899.80   -   1.14%\n",
              "2  2020년 06월 26일  1,921.92  1,959.50  1,964.01  1,917.83   -  -2.00%\n",
              "3  2020년 06월 25일  1,961.05  1,941.59  1,963.72  1,914.30   -   0.86%\n",
              "4  2020년 06월 24일  1,944.30  1,976.63  1,988.23  1,930.69   -  -2.18%"
            ]
          },
          "metadata": {
            "tags": []
          }
        },
        {
          "output_type": "stream",
          "text": [
            "time: 67.7 ms\n"
          ],
          "name": "stdout"
        }
      ]
    },
    {
      "cell_type": "code",
      "metadata": {
        "id": "NrhEy5_76vs9",
        "colab_type": "code",
        "colab": {
          "base_uri": "https://localhost:8080/",
          "height": 35
        },
        "outputId": "8e74c58d-a578-4955-8beb-debc5e001d84"
      },
      "source": [
        "phlx.columns = ['Date', 'Close', 'Open', 'High', 'Low', 'Volume', 'Change']"
      ],
      "execution_count": null,
      "outputs": [
        {
          "output_type": "stream",
          "text": [
            "time: 1.94 ms\n"
          ],
          "name": "stdout"
        }
      ]
    },
    {
      "cell_type": "code",
      "metadata": {
        "id": "yj9ppXjg5hdV",
        "colab_type": "code",
        "colab": {
          "base_uri": "https://localhost:8080/",
          "height": 384
        },
        "outputId": "540f1e27-d0e3-4b5c-bb92-6231731f41c9"
      },
      "source": [
        "data_info(phlx)"
      ],
      "execution_count": null,
      "outputs": [
        {
          "output_type": "stream",
          "text": [
            "shape : (1383, 7)\n",
            "dtypes : Date      object\n",
            "Close     object\n",
            "Open      object\n",
            "High      object\n",
            "Low       object\n",
            "Volume    object\n",
            "Change    object\n",
            "dtype: object\n"
          ],
          "name": "stdout"
        },
        {
          "output_type": "display_data",
          "data": {
            "text/html": [
              "<div>\n",
              "<style scoped>\n",
              "    .dataframe tbody tr th:only-of-type {\n",
              "        vertical-align: middle;\n",
              "    }\n",
              "\n",
              "    .dataframe tbody tr th {\n",
              "        vertical-align: top;\n",
              "    }\n",
              "\n",
              "    .dataframe thead th {\n",
              "        text-align: right;\n",
              "    }\n",
              "</style>\n",
              "<table border=\"1\" class=\"dataframe\">\n",
              "  <thead>\n",
              "    <tr style=\"text-align: right;\">\n",
              "      <th></th>\n",
              "      <th>Date</th>\n",
              "      <th>Close</th>\n",
              "      <th>Open</th>\n",
              "      <th>High</th>\n",
              "      <th>Low</th>\n",
              "      <th>Volume</th>\n",
              "      <th>Change</th>\n",
              "    </tr>\n",
              "  </thead>\n",
              "  <tbody>\n",
              "    <tr>\n",
              "      <th>0</th>\n",
              "      <td>2020년 06월 30일</td>\n",
              "      <td>1,996.44</td>\n",
              "      <td>1,954.54</td>\n",
              "      <td>2,002.08</td>\n",
              "      <td>1,953.22</td>\n",
              "      <td>-</td>\n",
              "      <td>2.70%</td>\n",
              "    </tr>\n",
              "    <tr>\n",
              "      <th>1</th>\n",
              "      <td>2020년 06월 29일</td>\n",
              "      <td>1,943.90</td>\n",
              "      <td>1,924.80</td>\n",
              "      <td>1,944.64</td>\n",
              "      <td>1,899.80</td>\n",
              "      <td>-</td>\n",
              "      <td>1.14%</td>\n",
              "    </tr>\n",
              "    <tr>\n",
              "      <th>2</th>\n",
              "      <td>2020년 06월 26일</td>\n",
              "      <td>1,921.92</td>\n",
              "      <td>1,959.50</td>\n",
              "      <td>1,964.01</td>\n",
              "      <td>1,917.83</td>\n",
              "      <td>-</td>\n",
              "      <td>-2.00%</td>\n",
              "    </tr>\n",
              "    <tr>\n",
              "      <th>3</th>\n",
              "      <td>2020년 06월 25일</td>\n",
              "      <td>1,961.05</td>\n",
              "      <td>1,941.59</td>\n",
              "      <td>1,963.72</td>\n",
              "      <td>1,914.30</td>\n",
              "      <td>-</td>\n",
              "      <td>0.86%</td>\n",
              "    </tr>\n",
              "    <tr>\n",
              "      <th>4</th>\n",
              "      <td>2020년 06월 24일</td>\n",
              "      <td>1,944.30</td>\n",
              "      <td>1,976.63</td>\n",
              "      <td>1,988.23</td>\n",
              "      <td>1,930.69</td>\n",
              "      <td>-</td>\n",
              "      <td>-2.18%</td>\n",
              "    </tr>\n",
              "  </tbody>\n",
              "</table>\n",
              "</div>"
            ],
            "text/plain": [
              "            Date     Close      Open      High       Low Volume  Change\n",
              "0  2020년 06월 30일  1,996.44  1,954.54  2,002.08  1,953.22      -   2.70%\n",
              "1  2020년 06월 29일  1,943.90  1,924.80  1,944.64  1,899.80      -   1.14%\n",
              "2  2020년 06월 26일  1,921.92  1,959.50  1,964.01  1,917.83      -  -2.00%\n",
              "3  2020년 06월 25일  1,961.05  1,941.59  1,963.72  1,914.30      -   0.86%\n",
              "4  2020년 06월 24일  1,944.30  1,976.63  1,988.23  1,930.69      -  -2.18%"
            ]
          },
          "metadata": {
            "tags": []
          }
        },
        {
          "output_type": "stream",
          "text": [
            "time: 28 ms\n"
          ],
          "name": "stdout"
        }
      ]
    },
    {
      "cell_type": "code",
      "metadata": {
        "id": "e_dkQSac5Szt",
        "colab_type": "code",
        "colab": {
          "base_uri": "https://localhost:8080/",
          "height": 35
        },
        "outputId": "a956273f-15f5-4c0f-a258-8844b63d9a5f"
      },
      "source": [
        "def process_Date(df):\n",
        "    \n",
        "    regex_pat = re.compile(r'[가-힣] ')\n",
        "    df['Date'] = df.Date.replace(regex_pat, '-')\n",
        "    regex_pat = re.compile(r'[가-힣]')\n",
        "    df['Date'] = df.Date.replace(regex_pat, '')\n",
        "    \n",
        "    df['Date'] = pd.to_datetime(df['Date'], format='%Y-%m-%d')\n",
        "    return df"
      ],
      "execution_count": null,
      "outputs": [
        {
          "output_type": "stream",
          "text": [
            "time: 5.51 ms\n"
          ],
          "name": "stdout"
        }
      ]
    },
    {
      "cell_type": "code",
      "metadata": {
        "id": "90xcNkeNF2iq",
        "colab_type": "code",
        "colab": {
          "base_uri": "https://localhost:8080/",
          "height": 733
        },
        "outputId": "6408c79d-171e-47e5-cbd1-a4ba26ab4e35"
      },
      "source": [
        "stock = process_Date(stock)\n",
        "phlx = process_Date(phlx)\n",
        "\n",
        "data_info(stock)\n",
        "data_info(phlx)"
      ],
      "execution_count": null,
      "outputs": [
        {
          "output_type": "stream",
          "text": [
            "shape : (1347, 7)\n",
            "dtypes : Date      datetime64[ns]\n",
            "Open               int64\n",
            "High               int64\n",
            "Low                int64\n",
            "Close              int64\n",
            "Volume             int64\n",
            "Change           float64\n",
            "dtype: object\n"
          ],
          "name": "stdout"
        },
        {
          "output_type": "display_data",
          "data": {
            "text/html": [
              "<div>\n",
              "<style scoped>\n",
              "    .dataframe tbody tr th:only-of-type {\n",
              "        vertical-align: middle;\n",
              "    }\n",
              "\n",
              "    .dataframe tbody tr th {\n",
              "        vertical-align: top;\n",
              "    }\n",
              "\n",
              "    .dataframe thead th {\n",
              "        text-align: right;\n",
              "    }\n",
              "</style>\n",
              "<table border=\"1\" class=\"dataframe\">\n",
              "  <thead>\n",
              "    <tr style=\"text-align: right;\">\n",
              "      <th></th>\n",
              "      <th>Date</th>\n",
              "      <th>Open</th>\n",
              "      <th>High</th>\n",
              "      <th>Low</th>\n",
              "      <th>Close</th>\n",
              "      <th>Volume</th>\n",
              "      <th>Change</th>\n",
              "    </tr>\n",
              "  </thead>\n",
              "  <tbody>\n",
              "    <tr>\n",
              "      <th>0</th>\n",
              "      <td>2015-01-02</td>\n",
              "      <td>26799</td>\n",
              "      <td>26799</td>\n",
              "      <td>26540</td>\n",
              "      <td>26600</td>\n",
              "      <td>175499</td>\n",
              "      <td>0.002261</td>\n",
              "    </tr>\n",
              "    <tr>\n",
              "      <th>1</th>\n",
              "      <td>2015-01-05</td>\n",
              "      <td>26720</td>\n",
              "      <td>26720</td>\n",
              "      <td>26260</td>\n",
              "      <td>26660</td>\n",
              "      <td>202790</td>\n",
              "      <td>0.002256</td>\n",
              "    </tr>\n",
              "    <tr>\n",
              "      <th>2</th>\n",
              "      <td>2015-01-06</td>\n",
              "      <td>26300</td>\n",
              "      <td>26340</td>\n",
              "      <td>25760</td>\n",
              "      <td>25900</td>\n",
              "      <td>304710</td>\n",
              "      <td>-0.028507</td>\n",
              "    </tr>\n",
              "    <tr>\n",
              "      <th>3</th>\n",
              "      <td>2015-01-07</td>\n",
              "      <td>25880</td>\n",
              "      <td>26220</td>\n",
              "      <td>25640</td>\n",
              "      <td>26140</td>\n",
              "      <td>286455</td>\n",
              "      <td>0.009266</td>\n",
              "    </tr>\n",
              "    <tr>\n",
              "      <th>4</th>\n",
              "      <td>2015-01-08</td>\n",
              "      <td>26780</td>\n",
              "      <td>26780</td>\n",
              "      <td>26199</td>\n",
              "      <td>26280</td>\n",
              "      <td>289552</td>\n",
              "      <td>0.005356</td>\n",
              "    </tr>\n",
              "  </tbody>\n",
              "</table>\n",
              "</div>"
            ],
            "text/plain": [
              "        Date   Open   High    Low  Close  Volume    Change\n",
              "0 2015-01-02  26799  26799  26540  26600  175499  0.002261\n",
              "1 2015-01-05  26720  26720  26260  26660  202790  0.002256\n",
              "2 2015-01-06  26300  26340  25760  25900  304710 -0.028507\n",
              "3 2015-01-07  25880  26220  25640  26140  286455  0.009266\n",
              "4 2015-01-08  26780  26780  26199  26280  289552  0.005356"
            ]
          },
          "metadata": {
            "tags": []
          }
        },
        {
          "output_type": "stream",
          "text": [
            "shape : (1383, 7)\n",
            "dtypes : Date      datetime64[ns]\n",
            "Close             object\n",
            "Open              object\n",
            "High              object\n",
            "Low               object\n",
            "Volume            object\n",
            "Change            object\n",
            "dtype: object\n"
          ],
          "name": "stdout"
        },
        {
          "output_type": "display_data",
          "data": {
            "text/html": [
              "<div>\n",
              "<style scoped>\n",
              "    .dataframe tbody tr th:only-of-type {\n",
              "        vertical-align: middle;\n",
              "    }\n",
              "\n",
              "    .dataframe tbody tr th {\n",
              "        vertical-align: top;\n",
              "    }\n",
              "\n",
              "    .dataframe thead th {\n",
              "        text-align: right;\n",
              "    }\n",
              "</style>\n",
              "<table border=\"1\" class=\"dataframe\">\n",
              "  <thead>\n",
              "    <tr style=\"text-align: right;\">\n",
              "      <th></th>\n",
              "      <th>Date</th>\n",
              "      <th>Close</th>\n",
              "      <th>Open</th>\n",
              "      <th>High</th>\n",
              "      <th>Low</th>\n",
              "      <th>Volume</th>\n",
              "      <th>Change</th>\n",
              "    </tr>\n",
              "  </thead>\n",
              "  <tbody>\n",
              "    <tr>\n",
              "      <th>0</th>\n",
              "      <td>2020-06-30</td>\n",
              "      <td>1,996.44</td>\n",
              "      <td>1,954.54</td>\n",
              "      <td>2,002.08</td>\n",
              "      <td>1,953.22</td>\n",
              "      <td>-</td>\n",
              "      <td>2.70%</td>\n",
              "    </tr>\n",
              "    <tr>\n",
              "      <th>1</th>\n",
              "      <td>2020-06-29</td>\n",
              "      <td>1,943.90</td>\n",
              "      <td>1,924.80</td>\n",
              "      <td>1,944.64</td>\n",
              "      <td>1,899.80</td>\n",
              "      <td>-</td>\n",
              "      <td>1.14%</td>\n",
              "    </tr>\n",
              "    <tr>\n",
              "      <th>2</th>\n",
              "      <td>2020-06-26</td>\n",
              "      <td>1,921.92</td>\n",
              "      <td>1,959.50</td>\n",
              "      <td>1,964.01</td>\n",
              "      <td>1,917.83</td>\n",
              "      <td>-</td>\n",
              "      <td>-2.00%</td>\n",
              "    </tr>\n",
              "    <tr>\n",
              "      <th>3</th>\n",
              "      <td>2020-06-25</td>\n",
              "      <td>1,961.05</td>\n",
              "      <td>1,941.59</td>\n",
              "      <td>1,963.72</td>\n",
              "      <td>1,914.30</td>\n",
              "      <td>-</td>\n",
              "      <td>0.86%</td>\n",
              "    </tr>\n",
              "    <tr>\n",
              "      <th>4</th>\n",
              "      <td>2020-06-24</td>\n",
              "      <td>1,944.30</td>\n",
              "      <td>1,976.63</td>\n",
              "      <td>1,988.23</td>\n",
              "      <td>1,930.69</td>\n",
              "      <td>-</td>\n",
              "      <td>-2.18%</td>\n",
              "    </tr>\n",
              "  </tbody>\n",
              "</table>\n",
              "</div>"
            ],
            "text/plain": [
              "        Date     Close      Open      High       Low Volume  Change\n",
              "0 2020-06-30  1,996.44  1,954.54  2,002.08  1,953.22      -   2.70%\n",
              "1 2020-06-29  1,943.90  1,924.80  1,944.64  1,899.80      -   1.14%\n",
              "2 2020-06-26  1,921.92  1,959.50  1,964.01  1,917.83      -  -2.00%\n",
              "3 2020-06-25  1,961.05  1,941.59  1,963.72  1,914.30      -   0.86%\n",
              "4 2020-06-24  1,944.30  1,976.63  1,988.23  1,930.69      -  -2.18%"
            ]
          },
          "metadata": {
            "tags": []
          }
        },
        {
          "output_type": "stream",
          "text": [
            "time: 60.2 ms\n"
          ],
          "name": "stdout"
        }
      ]
    },
    {
      "cell_type": "code",
      "metadata": {
        "id": "djo38RfbF9aF",
        "colab_type": "code",
        "colab": {
          "base_uri": "https://localhost:8080/",
          "height": 222
        },
        "outputId": "6f525331-1fbe-426a-9bbb-91f27105110d"
      },
      "source": [
        "phlx.sort_values(by='Date', inplace=True)\n",
        "phlx.head()"
      ],
      "execution_count": null,
      "outputs": [
        {
          "output_type": "execute_result",
          "data": {
            "text/html": [
              "<div>\n",
              "<style scoped>\n",
              "    .dataframe tbody tr th:only-of-type {\n",
              "        vertical-align: middle;\n",
              "    }\n",
              "\n",
              "    .dataframe tbody tr th {\n",
              "        vertical-align: top;\n",
              "    }\n",
              "\n",
              "    .dataframe thead th {\n",
              "        text-align: right;\n",
              "    }\n",
              "</style>\n",
              "<table border=\"1\" class=\"dataframe\">\n",
              "  <thead>\n",
              "    <tr style=\"text-align: right;\">\n",
              "      <th></th>\n",
              "      <th>Date</th>\n",
              "      <th>Close</th>\n",
              "      <th>Open</th>\n",
              "      <th>High</th>\n",
              "      <th>Low</th>\n",
              "      <th>Volume</th>\n",
              "      <th>Change</th>\n",
              "    </tr>\n",
              "  </thead>\n",
              "  <tbody>\n",
              "    <tr>\n",
              "      <th>1382</th>\n",
              "      <td>2015-01-02</td>\n",
              "      <td>686.73</td>\n",
              "      <td>690.28</td>\n",
              "      <td>694.03</td>\n",
              "      <td>680.28</td>\n",
              "      <td>-</td>\n",
              "      <td>-0.02%</td>\n",
              "    </tr>\n",
              "    <tr>\n",
              "      <th>1381</th>\n",
              "      <td>2015-01-05</td>\n",
              "      <td>673.59</td>\n",
              "      <td>683.57</td>\n",
              "      <td>684.84</td>\n",
              "      <td>673.43</td>\n",
              "      <td>-</td>\n",
              "      <td>-1.91%</td>\n",
              "    </tr>\n",
              "    <tr>\n",
              "      <th>1380</th>\n",
              "      <td>2015-01-06</td>\n",
              "      <td>658.83</td>\n",
              "      <td>675.12</td>\n",
              "      <td>675.14</td>\n",
              "      <td>656.37</td>\n",
              "      <td>-</td>\n",
              "      <td>-2.19%</td>\n",
              "    </tr>\n",
              "    <tr>\n",
              "      <th>1379</th>\n",
              "      <td>2015-01-07</td>\n",
              "      <td>665.27</td>\n",
              "      <td>660.42</td>\n",
              "      <td>668.22</td>\n",
              "      <td>658.75</td>\n",
              "      <td>-</td>\n",
              "      <td>0.98%</td>\n",
              "    </tr>\n",
              "    <tr>\n",
              "      <th>1378</th>\n",
              "      <td>2015-01-08</td>\n",
              "      <td>684.65</td>\n",
              "      <td>671.81</td>\n",
              "      <td>686.20</td>\n",
              "      <td>671.81</td>\n",
              "      <td>-</td>\n",
              "      <td>2.91%</td>\n",
              "    </tr>\n",
              "  </tbody>\n",
              "</table>\n",
              "</div>"
            ],
            "text/plain": [
              "           Date   Close    Open    High     Low Volume  Change\n",
              "1382 2015-01-02  686.73  690.28  694.03  680.28      -  -0.02%\n",
              "1381 2015-01-05  673.59  683.57  684.84  673.43      -  -1.91%\n",
              "1380 2015-01-06  658.83  675.12  675.14  656.37      -  -2.19%\n",
              "1379 2015-01-07  665.27  660.42  668.22  658.75      -   0.98%\n",
              "1378 2015-01-08  684.65  671.81  686.20  671.81      -   2.91%"
            ]
          },
          "metadata": {
            "tags": []
          },
          "execution_count": 12
        },
        {
          "output_type": "stream",
          "text": [
            "time: 27.1 ms\n"
          ],
          "name": "stdout"
        }
      ]
    },
    {
      "cell_type": "code",
      "metadata": {
        "id": "jWU6sGrpViJe",
        "colab_type": "code",
        "colab": {
          "base_uri": "https://localhost:8080/",
          "height": 35
        },
        "outputId": "2c2e8131-31f8-4e85-e03a-640b219744cd"
      },
      "source": [
        "phlx['Close'] = phlx['Close'].str.replace(\",\", \"\")\n",
        "phlx['Open'] = phlx['Open'].str.replace(\",\", \"\")\n",
        "phlx['High'] = phlx['High'].str.replace(\",\", \"\")\n",
        "phlx['Low'] = phlx['Low'].str.replace(\",\", \"\")"
      ],
      "execution_count": null,
      "outputs": [
        {
          "output_type": "stream",
          "text": [
            "time: 12.4 ms\n"
          ],
          "name": "stdout"
        }
      ]
    },
    {
      "cell_type": "code",
      "metadata": {
        "id": "a9LfNjzDJs-B",
        "colab_type": "code",
        "colab": {
          "base_uri": "https://localhost:8080/",
          "height": 35
        },
        "outputId": "db7a3f2c-9016-4f62-f2fd-f87c4f7fff77"
      },
      "source": [
        "phlx = phlx.astype({'Close' : 'float',\n",
        "                    'Open' : 'float',\n",
        "                    'High' : 'float',\n",
        "                    'Low' : 'float'})"
      ],
      "execution_count": null,
      "outputs": [
        {
          "output_type": "stream",
          "text": [
            "time: 7.73 ms\n"
          ],
          "name": "stdout"
        }
      ]
    },
    {
      "cell_type": "code",
      "metadata": {
        "id": "PGnTEy3bGhbw",
        "colab_type": "code",
        "colab": {
          "base_uri": "https://localhost:8080/",
          "height": 759
        },
        "outputId": "1db915c2-3154-436a-9690-e95683e820e5"
      },
      "source": [
        "setidx_stock = stock.set_index('Date')\n",
        "setidx_phlx = phlx.set_index('Date')\n",
        "\n",
        "data_info(setidx_stock)\n",
        "data_info(setidx_phlx)"
      ],
      "execution_count": null,
      "outputs": [
        {
          "output_type": "stream",
          "text": [
            "shape : (1347, 6)\n",
            "dtypes : Open        int64\n",
            "High        int64\n",
            "Low         int64\n",
            "Close       int64\n",
            "Volume      int64\n",
            "Change    float64\n",
            "dtype: object\n"
          ],
          "name": "stdout"
        },
        {
          "output_type": "display_data",
          "data": {
            "text/html": [
              "<div>\n",
              "<style scoped>\n",
              "    .dataframe tbody tr th:only-of-type {\n",
              "        vertical-align: middle;\n",
              "    }\n",
              "\n",
              "    .dataframe tbody tr th {\n",
              "        vertical-align: top;\n",
              "    }\n",
              "\n",
              "    .dataframe thead th {\n",
              "        text-align: right;\n",
              "    }\n",
              "</style>\n",
              "<table border=\"1\" class=\"dataframe\">\n",
              "  <thead>\n",
              "    <tr style=\"text-align: right;\">\n",
              "      <th></th>\n",
              "      <th>Open</th>\n",
              "      <th>High</th>\n",
              "      <th>Low</th>\n",
              "      <th>Close</th>\n",
              "      <th>Volume</th>\n",
              "      <th>Change</th>\n",
              "    </tr>\n",
              "    <tr>\n",
              "      <th>Date</th>\n",
              "      <th></th>\n",
              "      <th></th>\n",
              "      <th></th>\n",
              "      <th></th>\n",
              "      <th></th>\n",
              "      <th></th>\n",
              "    </tr>\n",
              "  </thead>\n",
              "  <tbody>\n",
              "    <tr>\n",
              "      <th>2015-01-02</th>\n",
              "      <td>26799</td>\n",
              "      <td>26799</td>\n",
              "      <td>26540</td>\n",
              "      <td>26600</td>\n",
              "      <td>175499</td>\n",
              "      <td>0.002261</td>\n",
              "    </tr>\n",
              "    <tr>\n",
              "      <th>2015-01-05</th>\n",
              "      <td>26720</td>\n",
              "      <td>26720</td>\n",
              "      <td>26260</td>\n",
              "      <td>26660</td>\n",
              "      <td>202790</td>\n",
              "      <td>0.002256</td>\n",
              "    </tr>\n",
              "    <tr>\n",
              "      <th>2015-01-06</th>\n",
              "      <td>26300</td>\n",
              "      <td>26340</td>\n",
              "      <td>25760</td>\n",
              "      <td>25900</td>\n",
              "      <td>304710</td>\n",
              "      <td>-0.028507</td>\n",
              "    </tr>\n",
              "    <tr>\n",
              "      <th>2015-01-07</th>\n",
              "      <td>25880</td>\n",
              "      <td>26220</td>\n",
              "      <td>25640</td>\n",
              "      <td>26140</td>\n",
              "      <td>286455</td>\n",
              "      <td>0.009266</td>\n",
              "    </tr>\n",
              "    <tr>\n",
              "      <th>2015-01-08</th>\n",
              "      <td>26780</td>\n",
              "      <td>26780</td>\n",
              "      <td>26199</td>\n",
              "      <td>26280</td>\n",
              "      <td>289552</td>\n",
              "      <td>0.005356</td>\n",
              "    </tr>\n",
              "  </tbody>\n",
              "</table>\n",
              "</div>"
            ],
            "text/plain": [
              "             Open   High    Low  Close  Volume    Change\n",
              "Date                                                    \n",
              "2015-01-02  26799  26799  26540  26600  175499  0.002261\n",
              "2015-01-05  26720  26720  26260  26660  202790  0.002256\n",
              "2015-01-06  26300  26340  25760  25900  304710 -0.028507\n",
              "2015-01-07  25880  26220  25640  26140  286455  0.009266\n",
              "2015-01-08  26780  26780  26199  26280  289552  0.005356"
            ]
          },
          "metadata": {
            "tags": []
          }
        },
        {
          "output_type": "stream",
          "text": [
            "shape : (1383, 6)\n",
            "dtypes : Close     float64\n",
            "Open      float64\n",
            "High      float64\n",
            "Low       float64\n",
            "Volume     object\n",
            "Change     object\n",
            "dtype: object\n"
          ],
          "name": "stdout"
        },
        {
          "output_type": "display_data",
          "data": {
            "text/html": [
              "<div>\n",
              "<style scoped>\n",
              "    .dataframe tbody tr th:only-of-type {\n",
              "        vertical-align: middle;\n",
              "    }\n",
              "\n",
              "    .dataframe tbody tr th {\n",
              "        vertical-align: top;\n",
              "    }\n",
              "\n",
              "    .dataframe thead th {\n",
              "        text-align: right;\n",
              "    }\n",
              "</style>\n",
              "<table border=\"1\" class=\"dataframe\">\n",
              "  <thead>\n",
              "    <tr style=\"text-align: right;\">\n",
              "      <th></th>\n",
              "      <th>Close</th>\n",
              "      <th>Open</th>\n",
              "      <th>High</th>\n",
              "      <th>Low</th>\n",
              "      <th>Volume</th>\n",
              "      <th>Change</th>\n",
              "    </tr>\n",
              "    <tr>\n",
              "      <th>Date</th>\n",
              "      <th></th>\n",
              "      <th></th>\n",
              "      <th></th>\n",
              "      <th></th>\n",
              "      <th></th>\n",
              "      <th></th>\n",
              "    </tr>\n",
              "  </thead>\n",
              "  <tbody>\n",
              "    <tr>\n",
              "      <th>2015-01-02</th>\n",
              "      <td>686.73</td>\n",
              "      <td>690.28</td>\n",
              "      <td>694.03</td>\n",
              "      <td>680.28</td>\n",
              "      <td>-</td>\n",
              "      <td>-0.02%</td>\n",
              "    </tr>\n",
              "    <tr>\n",
              "      <th>2015-01-05</th>\n",
              "      <td>673.59</td>\n",
              "      <td>683.57</td>\n",
              "      <td>684.84</td>\n",
              "      <td>673.43</td>\n",
              "      <td>-</td>\n",
              "      <td>-1.91%</td>\n",
              "    </tr>\n",
              "    <tr>\n",
              "      <th>2015-01-06</th>\n",
              "      <td>658.83</td>\n",
              "      <td>675.12</td>\n",
              "      <td>675.14</td>\n",
              "      <td>656.37</td>\n",
              "      <td>-</td>\n",
              "      <td>-2.19%</td>\n",
              "    </tr>\n",
              "    <tr>\n",
              "      <th>2015-01-07</th>\n",
              "      <td>665.27</td>\n",
              "      <td>660.42</td>\n",
              "      <td>668.22</td>\n",
              "      <td>658.75</td>\n",
              "      <td>-</td>\n",
              "      <td>0.98%</td>\n",
              "    </tr>\n",
              "    <tr>\n",
              "      <th>2015-01-08</th>\n",
              "      <td>684.65</td>\n",
              "      <td>671.81</td>\n",
              "      <td>686.20</td>\n",
              "      <td>671.81</td>\n",
              "      <td>-</td>\n",
              "      <td>2.91%</td>\n",
              "    </tr>\n",
              "  </tbody>\n",
              "</table>\n",
              "</div>"
            ],
            "text/plain": [
              "             Close    Open    High     Low Volume  Change\n",
              "Date                                                     \n",
              "2015-01-02  686.73  690.28  694.03  680.28      -  -0.02%\n",
              "2015-01-05  673.59  683.57  684.84  673.43      -  -1.91%\n",
              "2015-01-06  658.83  675.12  675.14  656.37      -  -2.19%\n",
              "2015-01-07  665.27  660.42  668.22  658.75      -   0.98%\n",
              "2015-01-08  684.65  671.81  686.20  671.81      -   2.91%"
            ]
          },
          "metadata": {
            "tags": []
          }
        },
        {
          "output_type": "stream",
          "text": [
            "time: 44 ms\n"
          ],
          "name": "stdout"
        }
      ]
    },
    {
      "cell_type": "code",
      "metadata": {
        "id": "54TKFNcfMe_8",
        "colab_type": "code",
        "colab": {
          "base_uri": "https://localhost:8080/",
          "height": 759
        },
        "outputId": "2b2813dd-8bcc-4b42-e5b9-b002f58bc092"
      },
      "source": [
        "data_info(setidx_stock)\n",
        "data_info(setidx_phlx)"
      ],
      "execution_count": null,
      "outputs": [
        {
          "output_type": "stream",
          "text": [
            "shape : (1347, 6)\n",
            "dtypes : Open        int64\n",
            "High        int64\n",
            "Low         int64\n",
            "Close       int64\n",
            "Volume      int64\n",
            "Change    float64\n",
            "dtype: object\n"
          ],
          "name": "stdout"
        },
        {
          "output_type": "display_data",
          "data": {
            "text/html": [
              "<div>\n",
              "<style scoped>\n",
              "    .dataframe tbody tr th:only-of-type {\n",
              "        vertical-align: middle;\n",
              "    }\n",
              "\n",
              "    .dataframe tbody tr th {\n",
              "        vertical-align: top;\n",
              "    }\n",
              "\n",
              "    .dataframe thead th {\n",
              "        text-align: right;\n",
              "    }\n",
              "</style>\n",
              "<table border=\"1\" class=\"dataframe\">\n",
              "  <thead>\n",
              "    <tr style=\"text-align: right;\">\n",
              "      <th></th>\n",
              "      <th>Open</th>\n",
              "      <th>High</th>\n",
              "      <th>Low</th>\n",
              "      <th>Close</th>\n",
              "      <th>Volume</th>\n",
              "      <th>Change</th>\n",
              "    </tr>\n",
              "    <tr>\n",
              "      <th>Date</th>\n",
              "      <th></th>\n",
              "      <th></th>\n",
              "      <th></th>\n",
              "      <th></th>\n",
              "      <th></th>\n",
              "      <th></th>\n",
              "    </tr>\n",
              "  </thead>\n",
              "  <tbody>\n",
              "    <tr>\n",
              "      <th>2015-01-02</th>\n",
              "      <td>26799</td>\n",
              "      <td>26799</td>\n",
              "      <td>26540</td>\n",
              "      <td>26600</td>\n",
              "      <td>175499</td>\n",
              "      <td>0.002261</td>\n",
              "    </tr>\n",
              "    <tr>\n",
              "      <th>2015-01-05</th>\n",
              "      <td>26720</td>\n",
              "      <td>26720</td>\n",
              "      <td>26260</td>\n",
              "      <td>26660</td>\n",
              "      <td>202790</td>\n",
              "      <td>0.002256</td>\n",
              "    </tr>\n",
              "    <tr>\n",
              "      <th>2015-01-06</th>\n",
              "      <td>26300</td>\n",
              "      <td>26340</td>\n",
              "      <td>25760</td>\n",
              "      <td>25900</td>\n",
              "      <td>304710</td>\n",
              "      <td>-0.028507</td>\n",
              "    </tr>\n",
              "    <tr>\n",
              "      <th>2015-01-07</th>\n",
              "      <td>25880</td>\n",
              "      <td>26220</td>\n",
              "      <td>25640</td>\n",
              "      <td>26140</td>\n",
              "      <td>286455</td>\n",
              "      <td>0.009266</td>\n",
              "    </tr>\n",
              "    <tr>\n",
              "      <th>2015-01-08</th>\n",
              "      <td>26780</td>\n",
              "      <td>26780</td>\n",
              "      <td>26199</td>\n",
              "      <td>26280</td>\n",
              "      <td>289552</td>\n",
              "      <td>0.005356</td>\n",
              "    </tr>\n",
              "  </tbody>\n",
              "</table>\n",
              "</div>"
            ],
            "text/plain": [
              "             Open   High    Low  Close  Volume    Change\n",
              "Date                                                    \n",
              "2015-01-02  26799  26799  26540  26600  175499  0.002261\n",
              "2015-01-05  26720  26720  26260  26660  202790  0.002256\n",
              "2015-01-06  26300  26340  25760  25900  304710 -0.028507\n",
              "2015-01-07  25880  26220  25640  26140  286455  0.009266\n",
              "2015-01-08  26780  26780  26199  26280  289552  0.005356"
            ]
          },
          "metadata": {
            "tags": []
          }
        },
        {
          "output_type": "stream",
          "text": [
            "shape : (1383, 6)\n",
            "dtypes : Close     float64\n",
            "Open      float64\n",
            "High      float64\n",
            "Low       float64\n",
            "Volume     object\n",
            "Change     object\n",
            "dtype: object\n"
          ],
          "name": "stdout"
        },
        {
          "output_type": "display_data",
          "data": {
            "text/html": [
              "<div>\n",
              "<style scoped>\n",
              "    .dataframe tbody tr th:only-of-type {\n",
              "        vertical-align: middle;\n",
              "    }\n",
              "\n",
              "    .dataframe tbody tr th {\n",
              "        vertical-align: top;\n",
              "    }\n",
              "\n",
              "    .dataframe thead th {\n",
              "        text-align: right;\n",
              "    }\n",
              "</style>\n",
              "<table border=\"1\" class=\"dataframe\">\n",
              "  <thead>\n",
              "    <tr style=\"text-align: right;\">\n",
              "      <th></th>\n",
              "      <th>Close</th>\n",
              "      <th>Open</th>\n",
              "      <th>High</th>\n",
              "      <th>Low</th>\n",
              "      <th>Volume</th>\n",
              "      <th>Change</th>\n",
              "    </tr>\n",
              "    <tr>\n",
              "      <th>Date</th>\n",
              "      <th></th>\n",
              "      <th></th>\n",
              "      <th></th>\n",
              "      <th></th>\n",
              "      <th></th>\n",
              "      <th></th>\n",
              "    </tr>\n",
              "  </thead>\n",
              "  <tbody>\n",
              "    <tr>\n",
              "      <th>2015-01-02</th>\n",
              "      <td>686.73</td>\n",
              "      <td>690.28</td>\n",
              "      <td>694.03</td>\n",
              "      <td>680.28</td>\n",
              "      <td>-</td>\n",
              "      <td>-0.02%</td>\n",
              "    </tr>\n",
              "    <tr>\n",
              "      <th>2015-01-05</th>\n",
              "      <td>673.59</td>\n",
              "      <td>683.57</td>\n",
              "      <td>684.84</td>\n",
              "      <td>673.43</td>\n",
              "      <td>-</td>\n",
              "      <td>-1.91%</td>\n",
              "    </tr>\n",
              "    <tr>\n",
              "      <th>2015-01-06</th>\n",
              "      <td>658.83</td>\n",
              "      <td>675.12</td>\n",
              "      <td>675.14</td>\n",
              "      <td>656.37</td>\n",
              "      <td>-</td>\n",
              "      <td>-2.19%</td>\n",
              "    </tr>\n",
              "    <tr>\n",
              "      <th>2015-01-07</th>\n",
              "      <td>665.27</td>\n",
              "      <td>660.42</td>\n",
              "      <td>668.22</td>\n",
              "      <td>658.75</td>\n",
              "      <td>-</td>\n",
              "      <td>0.98%</td>\n",
              "    </tr>\n",
              "    <tr>\n",
              "      <th>2015-01-08</th>\n",
              "      <td>684.65</td>\n",
              "      <td>671.81</td>\n",
              "      <td>686.20</td>\n",
              "      <td>671.81</td>\n",
              "      <td>-</td>\n",
              "      <td>2.91%</td>\n",
              "    </tr>\n",
              "  </tbody>\n",
              "</table>\n",
              "</div>"
            ],
            "text/plain": [
              "             Close    Open    High     Low Volume  Change\n",
              "Date                                                     \n",
              "2015-01-02  686.73  690.28  694.03  680.28      -  -0.02%\n",
              "2015-01-05  673.59  683.57  684.84  673.43      -  -1.91%\n",
              "2015-01-06  658.83  675.12  675.14  656.37      -  -2.19%\n",
              "2015-01-07  665.27  660.42  668.22  658.75      -   0.98%\n",
              "2015-01-08  684.65  671.81  686.20  671.81      -   2.91%"
            ]
          },
          "metadata": {
            "tags": []
          }
        },
        {
          "output_type": "stream",
          "text": [
            "time: 42.4 ms\n"
          ],
          "name": "stdout"
        }
      ]
    },
    {
      "cell_type": "code",
      "metadata": {
        "id": "MO6E8BvhIpQl",
        "colab_type": "code",
        "colab": {
          "base_uri": "https://localhost:8080/",
          "height": 303
        },
        "outputId": "15500e93-4ad0-40e6-dc5b-dc1a69b8f4eb"
      },
      "source": [
        "scaling_stock = setidx_stock['Close']/setidx_stock['Close'].iloc[0] *100\n",
        "scaling_phlx = setidx_phlx['Close']/setidx_phlx['Close'].iloc[0] *100\n",
        "\n",
        "scaling_stock.plot()\n",
        "scaling_phlx.plot()\n",
        "plt.title('Samgsung&SOX (2015.1-2020.6)')\n",
        "plt.legend(['Samsung E', 'SOX'])\n",
        "plt.show()"
      ],
      "execution_count": null,
      "outputs": [
        {
          "output_type": "display_data",
          "data": {
            "image/png": "[encoded data removed]",
            "text/plain": [
              "<Figure size 432x288 with 1 Axes>"
            ]
          },
          "metadata": {
            "tags": [],
            "needs_background": "light"
          }
        },
        {
          "output_type": "stream",
          "text": [
            "time: 199 ms\n"
          ],
          "name": "stdout"
        }
      ]
    },
    {
      "cell_type": "code",
      "metadata": {
        "id": "vM2o-FPXoV-v",
        "colab_type": "code",
        "colab": {
          "base_uri": "https://localhost:8080/",
          "height": 311
        },
        "outputId": "471731d0-90d7-4721-ceb5-be4f803706f0"
      },
      "source": [
        "scaling_stock = setidx_stock[setidx_stock.index.year >= 2018]['Close']/setidx_stock[setidx_stock.index.year >= 2018]['Close'].iloc[0] *100\n",
        "\n",
        "scaling_phlx = setidx_phlx[setidx_phlx.index.year >= 2018]['Close']/setidx_phlx[setidx_phlx.index.year >= 2018]['Close'].iloc[0] *100\n",
        "\n",
        "scaling_stock.plot()\n",
        "scaling_phlx.plot()\n",
        "plt.title('Samgsung&SOX (2018.1-2020.6)')\n",
        "plt.ylabel(\"Close\")\n",
        "plt.legend(['Samsung E', 'SOX'])\n",
        "plt.show()"
      ],
      "execution_count": null,
      "outputs": [
        {
          "output_type": "display_data",
          "data": {
            "image/png": "[encoded data removed]",
            "text/plain": [
              "<Figure size 432x288 with 1 Axes>"
            ]
          },
          "metadata": {
            "tags": [],
            "needs_background": "light"
          }
        },
        {
          "output_type": "stream",
          "text": [
            "time: 232 ms\n"
          ],
          "name": "stdout"
        }
      ]
    },
    {
      "cell_type": "code",
      "metadata": {
        "id": "nuKwOVRhGw1N",
        "colab_type": "code",
        "colab": {
          "base_uri": "https://localhost:8080/",
          "height": 311
        },
        "outputId": "cb620d09-6cf2-4dca-ed25-a1fd38ef3f11"
      },
      "source": [
        "scaling_stock = setidx_stock[setidx_stock.index.year >= 2019]['Close']/setidx_stock[setidx_stock.index.year >= 2019]['Close'].iloc[0] *100\n",
        "\n",
        "scaling_phlx = setidx_phlx[setidx_phlx.index.year >= 2019]['Close']/setidx_phlx[setidx_phlx.index.year >= 2019]['Close'].iloc[0] *100\n",
        "\n",
        "scaling_stock.plot()\n",
        "scaling_phlx.plot()\n",
        "plt.title('Samgsung&SOX (2019.1-2020.6)')\n",
        "plt.ylabel(\"Close\")\n",
        "plt.legend(['Samsung E', 'SOX'])\n",
        "plt.show()"
      ],
      "execution_count": null,
      "outputs": [
        {
          "output_type": "display_data",
          "data": {
            "image/png": "[encoded data removed]",
            "text/plain": [
              "<Figure size 432x288 with 1 Axes>"
            ]
          },
          "metadata": {
            "tags": [],
            "needs_background": "light"
          }
        },
        {
          "output_type": "stream",
          "text": [
            "time: 220 ms\n"
          ],
          "name": "stdout"
        }
      ]
    },
    {
      "cell_type": "code",
      "metadata": {
        "id": "YbuNihE5pATH",
        "colab_type": "code",
        "colab": {
          "base_uri": "https://localhost:8080/",
          "height": 312
        },
        "outputId": "8ecab5bc-118e-46cc-cbc7-865781acfb5c"
      },
      "source": [
        "cor_data = pd.merge(stock[['Date', 'Close']],\n",
        "                        phlx[['Date', 'Close']],\n",
        "                        on = 'Date',\n",
        "                        how = 'outer')\n",
        "\n",
        "data_info(cor_data)"
      ],
      "execution_count": null,
      "outputs": [
        {
          "output_type": "stream",
          "text": [
            "shape : (1424, 3)\n",
            "dtypes : Date       datetime64[ns]\n",
            "Close_x           float64\n",
            "Close_y           float64\n",
            "dtype: object\n"
          ],
          "name": "stdout"
        },
        {
          "output_type": "display_data",
          "data": {
            "text/html": [
              "<div>\n",
              "<style scoped>\n",
              "    .dataframe tbody tr th:only-of-type {\n",
              "        vertical-align: middle;\n",
              "    }\n",
              "\n",
              "    .dataframe tbody tr th {\n",
              "        vertical-align: top;\n",
              "    }\n",
              "\n",
              "    .dataframe thead th {\n",
              "        text-align: right;\n",
              "    }\n",
              "</style>\n",
              "<table border=\"1\" class=\"dataframe\">\n",
              "  <thead>\n",
              "    <tr style=\"text-align: right;\">\n",
              "      <th></th>\n",
              "      <th>Date</th>\n",
              "      <th>Close_x</th>\n",
              "      <th>Close_y</th>\n",
              "    </tr>\n",
              "  </thead>\n",
              "  <tbody>\n",
              "    <tr>\n",
              "      <th>0</th>\n",
              "      <td>2015-01-02</td>\n",
              "      <td>26600.0</td>\n",
              "      <td>686.73</td>\n",
              "    </tr>\n",
              "    <tr>\n",
              "      <th>1</th>\n",
              "      <td>2015-01-05</td>\n",
              "      <td>26660.0</td>\n",
              "      <td>673.59</td>\n",
              "    </tr>\n",
              "    <tr>\n",
              "      <th>2</th>\n",
              "      <td>2015-01-06</td>\n",
              "      <td>25900.0</td>\n",
              "      <td>658.83</td>\n",
              "    </tr>\n",
              "    <tr>\n",
              "      <th>3</th>\n",
              "      <td>2015-01-07</td>\n",
              "      <td>26140.0</td>\n",
              "      <td>665.27</td>\n",
              "    </tr>\n",
              "    <tr>\n",
              "      <th>4</th>\n",
              "      <td>2015-01-08</td>\n",
              "      <td>26280.0</td>\n",
              "      <td>684.65</td>\n",
              "    </tr>\n",
              "  </tbody>\n",
              "</table>\n",
              "</div>"
            ],
            "text/plain": [
              "        Date  Close_x  Close_y\n",
              "0 2015-01-02  26600.0   686.73\n",
              "1 2015-01-05  26660.0   673.59\n",
              "2 2015-01-06  25900.0   658.83\n",
              "3 2015-01-07  26140.0   665.27\n",
              "4 2015-01-08  26280.0   684.65"
            ]
          },
          "metadata": {
            "tags": []
          }
        },
        {
          "output_type": "stream",
          "text": [
            "time: 27.6 ms\n"
          ],
          "name": "stdout"
        }
      ]
    },
    {
      "cell_type": "code",
      "metadata": {
        "id": "4IE5q61ywOOC",
        "colab_type": "code",
        "colab": {
          "base_uri": "https://localhost:8080/",
          "height": 35
        },
        "outputId": "24421e84-99f0-4c2e-a3cc-275630d9d4ff"
      },
      "source": [
        "cor_data.columns = ['Date', 'Close_ss', 'Close_sox']"
      ],
      "execution_count": null,
      "outputs": [
        {
          "output_type": "stream",
          "text": [
            "time: 1.98 ms\n"
          ],
          "name": "stdout"
        }
      ]
    },
    {
      "cell_type": "code",
      "metadata": {
        "id": "9GtLDbRR6ghu",
        "colab_type": "code",
        "colab": {
          "base_uri": "https://localhost:8080/",
          "height": 331
        },
        "outputId": "1d6c2f77-cbd0-4804-a789-ecc2db8044fa"
      },
      "source": [
        "colormap = plt.cm.PuBu\n",
        "plt.figure(figsize=(6,4))\n",
        "plt.title(\"Person Correlation of Total data\", y = 1.05, size = 15)\n",
        "sns.heatmap(cor_data[['Close_ss', 'Close_sox']].astype(float).corr(),\n",
        "            linewidth = 0.1, vmax = 1.0,\n",
        "            square = True, cmap = colormap,\n",
        "            linecolor = 'white', annot = True)"
      ],
      "execution_count": null,
      "outputs": [
        {
          "output_type": "execute_result",
          "data": {
            "text/plain": [
              "<matplotlib.axes._subplots.AxesSubplot at 0x7fa8d7ca0588>"
            ]
          },
          "metadata": {
            "tags": []
          },
          "execution_count": 23
        },
        {
          "output_type": "display_data",
          "data": {
            "image/png": "[encoded data removed]",
            "text/plain": [
              "<Figure size 432x288 with 2 Axes>"
            ]
          },
          "metadata": {
            "tags": [],
            "needs_background": "light"
          }
        },
        {
          "output_type": "stream",
          "text": [
            "time: 238 ms\n"
          ],
          "name": "stdout"
        }
      ]
    },
    {
      "cell_type": "code",
      "metadata": {
        "id": "pWUntFYu_6iJ",
        "colab_type": "code",
        "colab": {
          "base_uri": "https://localhost:8080/",
          "height": 35
        },
        "outputId": "d6e99212-3a4c-498c-a35c-bf48d43bed78"
      },
      "source": [
        "setidx_phlx.columns = ['Close_ph', 'Open_ph', 'High_ph', 'Low_ph', 'Volume_ph', 'Change_ph']"
      ],
      "execution_count": null,
      "outputs": [
        {
          "output_type": "stream",
          "text": [
            "time: 2.29 ms\n"
          ],
          "name": "stdout"
        }
      ]
    },
    {
      "cell_type": "code",
      "metadata": {
        "id": "29MUD1UmPFjF",
        "colab_type": "code",
        "colab": {
          "base_uri": "https://localhost:8080/",
          "height": 35
        },
        "outputId": "992dfee1-2851-4dce-9e2f-7edf420b7d85"
      },
      "source": [
        "corr_data = pd.merge(setidx_stock, setidx_phlx, left_index=True, right_index=True, how='outer')"
      ],
      "execution_count": null,
      "outputs": [
        {
          "output_type": "stream",
          "text": [
            "time: 7.08 ms\n"
          ],
          "name": "stdout"
        }
      ]
    },
    {
      "cell_type": "code",
      "metadata": {
        "id": "da2XhwRlPdpi",
        "colab_type": "code",
        "colab": {
          "base_uri": "https://localhost:8080/",
          "height": 505
        },
        "outputId": "589c481e-0458-41c7-d5cd-2a179ab59b38"
      },
      "source": [
        "data_info(corr_data)"
      ],
      "execution_count": null,
      "outputs": [
        {
          "output_type": "stream",
          "text": [
            "shape : (1424, 12)\n",
            "dtypes : Open         float64\n",
            "High         float64\n",
            "Low          float64\n",
            "Close        float64\n",
            "Volume       float64\n",
            "Change       float64\n",
            "Close_ph     float64\n",
            "Open_ph      float64\n",
            "High_ph      float64\n",
            "Low_ph       float64\n",
            "Volume_ph     object\n",
            "Change_ph     object\n",
            "dtype: object\n"
          ],
          "name": "stdout"
        },
        {
          "output_type": "display_data",
          "data": {
            "text/html": [
              "<div>\n",
              "<style scoped>\n",
              "    .dataframe tbody tr th:only-of-type {\n",
              "        vertical-align: middle;\n",
              "    }\n",
              "\n",
              "    .dataframe tbody tr th {\n",
              "        vertical-align: top;\n",
              "    }\n",
              "\n",
              "    .dataframe thead th {\n",
              "        text-align: right;\n",
              "    }\n",
              "</style>\n",
              "<table border=\"1\" class=\"dataframe\">\n",
              "  <thead>\n",
              "    <tr style=\"text-align: right;\">\n",
              "      <th></th>\n",
              "      <th>Open</th>\n",
              "      <th>High</th>\n",
              "      <th>Low</th>\n",
              "      <th>Close</th>\n",
              "      <th>Volume</th>\n",
              "      <th>Change</th>\n",
              "      <th>Close_ph</th>\n",
              "      <th>Open_ph</th>\n",
              "      <th>High_ph</th>\n",
              "      <th>Low_ph</th>\n",
              "      <th>Volume_ph</th>\n",
              "      <th>Change_ph</th>\n",
              "    </tr>\n",
              "    <tr>\n",
              "      <th>Date</th>\n",
              "      <th></th>\n",
              "      <th></th>\n",
              "      <th></th>\n",
              "      <th></th>\n",
              "      <th></th>\n",
              "      <th></th>\n",
              "      <th></th>\n",
              "      <th></th>\n",
              "      <th></th>\n",
              "      <th></th>\n",
              "      <th></th>\n",
              "      <th></th>\n",
              "    </tr>\n",
              "  </thead>\n",
              "  <tbody>\n",
              "    <tr>\n",
              "      <th>2015-01-02</th>\n",
              "      <td>26799.0</td>\n",
              "      <td>26799.0</td>\n",
              "      <td>26540.0</td>\n",
              "      <td>26600.0</td>\n",
              "      <td>175499.0</td>\n",
              "      <td>0.002261</td>\n",
              "      <td>686.73</td>\n",
              "      <td>690.28</td>\n",
              "      <td>694.03</td>\n",
              "      <td>680.28</td>\n",
              "      <td>-</td>\n",
              "      <td>-0.02%</td>\n",
              "    </tr>\n",
              "    <tr>\n",
              "      <th>2015-01-05</th>\n",
              "      <td>26720.0</td>\n",
              "      <td>26720.0</td>\n",
              "      <td>26260.0</td>\n",
              "      <td>26660.0</td>\n",
              "      <td>202790.0</td>\n",
              "      <td>0.002256</td>\n",
              "      <td>673.59</td>\n",
              "      <td>683.57</td>\n",
              "      <td>684.84</td>\n",
              "      <td>673.43</td>\n",
              "      <td>-</td>\n",
              "      <td>-1.91%</td>\n",
              "    </tr>\n",
              "    <tr>\n",
              "      <th>2015-01-06</th>\n",
              "      <td>26300.0</td>\n",
              "      <td>26340.0</td>\n",
              "      <td>25760.0</td>\n",
              "      <td>25900.0</td>\n",
              "      <td>304710.0</td>\n",
              "      <td>-0.028507</td>\n",
              "      <td>658.83</td>\n",
              "      <td>675.12</td>\n",
              "      <td>675.14</td>\n",
              "      <td>656.37</td>\n",
              "      <td>-</td>\n",
              "      <td>-2.19%</td>\n",
              "    </tr>\n",
              "    <tr>\n",
              "      <th>2015-01-07</th>\n",
              "      <td>25880.0</td>\n",
              "      <td>26220.0</td>\n",
              "      <td>25640.0</td>\n",
              "      <td>26140.0</td>\n",
              "      <td>286455.0</td>\n",
              "      <td>0.009266</td>\n",
              "      <td>665.27</td>\n",
              "      <td>660.42</td>\n",
              "      <td>668.22</td>\n",
              "      <td>658.75</td>\n",
              "      <td>-</td>\n",
              "      <td>0.98%</td>\n",
              "    </tr>\n",
              "    <tr>\n",
              "      <th>2015-01-08</th>\n",
              "      <td>26780.0</td>\n",
              "      <td>26780.0</td>\n",
              "      <td>26199.0</td>\n",
              "      <td>26280.0</td>\n",
              "      <td>289552.0</td>\n",
              "      <td>0.005356</td>\n",
              "      <td>684.65</td>\n",
              "      <td>671.81</td>\n",
              "      <td>686.20</td>\n",
              "      <td>671.81</td>\n",
              "      <td>-</td>\n",
              "      <td>2.91%</td>\n",
              "    </tr>\n",
              "  </tbody>\n",
              "</table>\n",
              "</div>"
            ],
            "text/plain": [
              "               Open     High      Low  ...  Low_ph  Volume_ph  Change_ph\n",
              "Date                                   ...                              \n",
              "2015-01-02  26799.0  26799.0  26540.0  ...  680.28          -     -0.02%\n",
              "2015-01-05  26720.0  26720.0  26260.0  ...  673.43          -     -1.91%\n",
              "2015-01-06  26300.0  26340.0  25760.0  ...  656.37          -     -2.19%\n",
              "2015-01-07  25880.0  26220.0  25640.0  ...  658.75          -      0.98%\n",
              "2015-01-08  26780.0  26780.0  26199.0  ...  671.81          -      2.91%\n",
              "\n",
              "[5 rows x 12 columns]"
            ]
          },
          "metadata": {
            "tags": []
          }
        },
        {
          "output_type": "stream",
          "text": [
            "time: 41.9 ms\n"
          ],
          "name": "stdout"
        }
      ]
    },
    {
      "cell_type": "code",
      "metadata": {
        "id": "GkfzXxmnPpYE",
        "colab_type": "code",
        "colab": {
          "base_uri": "https://localhost:8080/",
          "height": 251
        },
        "outputId": "b5d2d13d-c1bc-49fc-cadd-206daed8ebb9"
      },
      "source": [
        "corr_data.isnull().sum()"
      ],
      "execution_count": null,
      "outputs": [
        {
          "output_type": "execute_result",
          "data": {
            "text/plain": [
              "Open         77\n",
              "High         77\n",
              "Low          77\n",
              "Close        77\n",
              "Volume       77\n",
              "Change       77\n",
              "Close_ph     41\n",
              "Open_ph      41\n",
              "High_ph      41\n",
              "Low_ph       41\n",
              "Volume_ph    41\n",
              "Change_ph    41\n",
              "dtype: int64"
            ]
          },
          "metadata": {
            "tags": []
          },
          "execution_count": 27
        },
        {
          "output_type": "stream",
          "text": [
            "time: 8.6 ms\n"
          ],
          "name": "stdout"
        }
      ]
    },
    {
      "cell_type": "code",
      "metadata": {
        "id": "p1O6-dCTPxgD",
        "colab_type": "code",
        "colab": {
          "base_uri": "https://localhost:8080/",
          "height": 35
        },
        "outputId": "01cb0091-ea03-4644-c810-86a005552c50"
      },
      "source": [
        "corr_data = corr_data.dropna(axis=0)"
      ],
      "execution_count": null,
      "outputs": [
        {
          "output_type": "stream",
          "text": [
            "time: 6.15 ms\n"
          ],
          "name": "stdout"
        }
      ]
    },
    {
      "cell_type": "code",
      "metadata": {
        "id": "e7l9nTTdQLUV",
        "colab_type": "code",
        "colab": {
          "base_uri": "https://localhost:8080/",
          "height": 721
        },
        "outputId": "2fde1c5b-6014-4e9f-82f5-e2780c7af232"
      },
      "source": [
        "data_info(corr_data)\n",
        "corr_data.isnull().sum()"
      ],
      "execution_count": null,
      "outputs": [
        {
          "output_type": "stream",
          "text": [
            "shape : (1306, 12)\n",
            "dtypes : Open         float64\n",
            "High         float64\n",
            "Low          float64\n",
            "Close        float64\n",
            "Volume       float64\n",
            "Change       float64\n",
            "Close_ph     float64\n",
            "Open_ph      float64\n",
            "High_ph      float64\n",
            "Low_ph       float64\n",
            "Volume_ph     object\n",
            "Change_ph     object\n",
            "dtype: object\n"
          ],
          "name": "stdout"
        },
        {
          "output_type": "display_data",
          "data": {
            "text/html": [
              "<div>\n",
              "<style scoped>\n",
              "    .dataframe tbody tr th:only-of-type {\n",
              "        vertical-align: middle;\n",
              "    }\n",
              "\n",
              "    .dataframe tbody tr th {\n",
              "        vertical-align: top;\n",
              "    }\n",
              "\n",
              "    .dataframe thead th {\n",
              "        text-align: right;\n",
              "    }\n",
              "</style>\n",
              "<table border=\"1\" class=\"dataframe\">\n",
              "  <thead>\n",
              "    <tr style=\"text-align: right;\">\n",
              "      <th></th>\n",
              "      <th>Open</th>\n",
              "      <th>High</th>\n",
              "      <th>Low</th>\n",
              "      <th>Close</th>\n",
              "      <th>Volume</th>\n",
              "      <th>Change</th>\n",
              "      <th>Close_ph</th>\n",
              "      <th>Open_ph</th>\n",
              "      <th>High_ph</th>\n",
              "      <th>Low_ph</th>\n",
              "      <th>Volume_ph</th>\n",
              "      <th>Change_ph</th>\n",
              "    </tr>\n",
              "    <tr>\n",
              "      <th>Date</th>\n",
              "      <th></th>\n",
              "      <th></th>\n",
              "      <th></th>\n",
              "      <th></th>\n",
              "      <th></th>\n",
              "      <th></th>\n",
              "      <th></th>\n",
              "      <th></th>\n",
              "      <th></th>\n",
              "      <th></th>\n",
              "      <th></th>\n",
              "      <th></th>\n",
              "    </tr>\n",
              "  </thead>\n",
              "  <tbody>\n",
              "    <tr>\n",
              "      <th>2015-01-02</th>\n",
              "      <td>26799.0</td>\n",
              "      <td>26799.0</td>\n",
              "      <td>26540.0</td>\n",
              "      <td>26600.0</td>\n",
              "      <td>175499.0</td>\n",
              "      <td>0.002261</td>\n",
              "      <td>686.73</td>\n",
              "      <td>690.28</td>\n",
              "      <td>694.03</td>\n",
              "      <td>680.28</td>\n",
              "      <td>-</td>\n",
              "      <td>-0.02%</td>\n",
              "    </tr>\n",
              "    <tr>\n",
              "      <th>2015-01-05</th>\n",
              "      <td>26720.0</td>\n",
              "      <td>26720.0</td>\n",
              "      <td>26260.0</td>\n",
              "      <td>26660.0</td>\n",
              "      <td>202790.0</td>\n",
              "      <td>0.002256</td>\n",
              "      <td>673.59</td>\n",
              "      <td>683.57</td>\n",
              "      <td>684.84</td>\n",
              "      <td>673.43</td>\n",
              "      <td>-</td>\n",
              "      <td>-1.91%</td>\n",
              "    </tr>\n",
              "    <tr>\n",
              "      <th>2015-01-06</th>\n",
              "      <td>26300.0</td>\n",
              "      <td>26340.0</td>\n",
              "      <td>25760.0</td>\n",
              "      <td>25900.0</td>\n",
              "      <td>304710.0</td>\n",
              "      <td>-0.028507</td>\n",
              "      <td>658.83</td>\n",
              "      <td>675.12</td>\n",
              "      <td>675.14</td>\n",
              "      <td>656.37</td>\n",
              "      <td>-</td>\n",
              "      <td>-2.19%</td>\n",
              "    </tr>\n",
              "    <tr>\n",
              "      <th>2015-01-07</th>\n",
              "      <td>25880.0</td>\n",
              "      <td>26220.0</td>\n",
              "      <td>25640.0</td>\n",
              "      <td>26140.0</td>\n",
              "      <td>286455.0</td>\n",
              "      <td>0.009266</td>\n",
              "      <td>665.27</td>\n",
              "      <td>660.42</td>\n",
              "      <td>668.22</td>\n",
              "      <td>658.75</td>\n",
              "      <td>-</td>\n",
              "      <td>0.98%</td>\n",
              "    </tr>\n",
              "    <tr>\n",
              "      <th>2015-01-08</th>\n",
              "      <td>26780.0</td>\n",
              "      <td>26780.0</td>\n",
              "      <td>26199.0</td>\n",
              "      <td>26280.0</td>\n",
              "      <td>289552.0</td>\n",
              "      <td>0.005356</td>\n",
              "      <td>684.65</td>\n",
              "      <td>671.81</td>\n",
              "      <td>686.20</td>\n",
              "      <td>671.81</td>\n",
              "      <td>-</td>\n",
              "      <td>2.91%</td>\n",
              "    </tr>\n",
              "  </tbody>\n",
              "</table>\n",
              "</div>"
            ],
            "text/plain": [
              "               Open     High      Low  ...  Low_ph  Volume_ph  Change_ph\n",
              "Date                                   ...                              \n",
              "2015-01-02  26799.0  26799.0  26540.0  ...  680.28          -     -0.02%\n",
              "2015-01-05  26720.0  26720.0  26260.0  ...  673.43          -     -1.91%\n",
              "2015-01-06  26300.0  26340.0  25760.0  ...  656.37          -     -2.19%\n",
              "2015-01-07  25880.0  26220.0  25640.0  ...  658.75          -      0.98%\n",
              "2015-01-08  26780.0  26780.0  26199.0  ...  671.81          -      2.91%\n",
              "\n",
              "[5 rows x 12 columns]"
            ]
          },
          "metadata": {
            "tags": []
          }
        },
        {
          "output_type": "execute_result",
          "data": {
            "text/plain": [
              "Open         0\n",
              "High         0\n",
              "Low          0\n",
              "Close        0\n",
              "Volume       0\n",
              "Change       0\n",
              "Close_ph     0\n",
              "Open_ph      0\n",
              "High_ph      0\n",
              "Low_ph       0\n",
              "Volume_ph    0\n",
              "Change_ph    0\n",
              "dtype: int64"
            ]
          },
          "metadata": {
            "tags": []
          },
          "execution_count": 29
        },
        {
          "output_type": "stream",
          "text": [
            "time: 50.1 ms\n"
          ],
          "name": "stdout"
        }
      ]
    },
    {
      "cell_type": "code",
      "metadata": {
        "id": "r2OgKtnFFQm7",
        "colab_type": "code",
        "colab": {
          "base_uri": "https://localhost:8080/",
          "height": 269
        },
        "outputId": "9bc63522-543b-4e10-bfcb-d4dbada45810"
      },
      "source": [
        "re = corr_data.corr(method='pearson')\n",
        "print(re)"
      ],
      "execution_count": null,
      "outputs": [
        {
          "output_type": "stream",
          "text": [
            "              Open      High       Low  ...   Open_ph   High_ph    Low_ph\n",
            "Open      1.000000  0.999278  0.999354  ...  0.909351  0.907911  0.909632\n",
            "High      0.999278  1.000000  0.999233  ...  0.910241  0.908978  0.910404\n",
            "Low       0.999354  0.999233  1.000000  ...  0.908993  0.907415  0.909427\n",
            "Close     0.998457  0.999300  0.999342  ...  0.909857  0.908407  0.910217\n",
            "Volume    0.495615  0.502337  0.488091  ...  0.667404  0.676655  0.660450\n",
            "Change   -0.008858  0.008839  0.008977  ...  0.006289  0.003828  0.008733\n",
            "Close_ph  0.908445  0.909486  0.908178  ...  0.999007  0.999435  0.999499\n",
            "Open_ph   0.909351  0.910241  0.908993  ...  1.000000  0.999588  0.999479\n",
            "High_ph   0.907911  0.908978  0.907415  ...  0.999588  1.000000  0.999226\n",
            "Low_ph    0.909632  0.910404  0.909427  ...  0.999479  0.999226  1.000000\n",
            "\n",
            "[10 rows x 10 columns]\n",
            "time: 24.8 ms\n"
          ],
          "name": "stdout"
        }
      ]
    },
    {
      "cell_type": "code",
      "metadata": {
        "id": "xG1XT87eYfo0",
        "colab_type": "code",
        "colab": {
          "base_uri": "https://localhost:8080/",
          "height": 53
        },
        "outputId": "b468ad45-06db-4f05-a50a-bbd929ef9f00"
      },
      "source": [
        "corr = lambda p : p['Close'].corr(p['Close_ph'])\n",
        "re_close =  corr(corr_data)\n",
        "\n",
        "print(re_close)"
      ],
      "execution_count": null,
      "outputs": [
        {
          "output_type": "stream",
          "text": [
            "0.909109515628923\n",
            "time: 4.33 ms\n"
          ],
          "name": "stdout"
        }
      ]
    },
    {
      "cell_type": "code",
      "metadata": {
        "id": "AybsjIKWNmAH",
        "colab_type": "code",
        "colab": {
          "base_uri": "https://localhost:8080/",
          "height": 253
        },
        "outputId": "29d0aa37-2edb-4cf1-9ed1-2d6e6d33c9a1"
      },
      "source": [
        "corr_data.tail()"
      ],
      "execution_count": null,
      "outputs": [
        {
          "output_type": "execute_result",
          "data": {
            "text/html": [
              "<div>\n",
              "<style scoped>\n",
              "    .dataframe tbody tr th:only-of-type {\n",
              "        vertical-align: middle;\n",
              "    }\n",
              "\n",
              "    .dataframe tbody tr th {\n",
              "        vertical-align: top;\n",
              "    }\n",
              "\n",
              "    .dataframe thead th {\n",
              "        text-align: right;\n",
              "    }\n",
              "</style>\n",
              "<table border=\"1\" class=\"dataframe\">\n",
              "  <thead>\n",
              "    <tr style=\"text-align: right;\">\n",
              "      <th></th>\n",
              "      <th>Open</th>\n",
              "      <th>High</th>\n",
              "      <th>Low</th>\n",
              "      <th>Close</th>\n",
              "      <th>Volume</th>\n",
              "      <th>Change</th>\n",
              "      <th>Close_ph</th>\n",
              "      <th>Open_ph</th>\n",
              "      <th>High_ph</th>\n",
              "      <th>Low_ph</th>\n",
              "      <th>Volume_ph</th>\n",
              "      <th>Change_ph</th>\n",
              "    </tr>\n",
              "    <tr>\n",
              "      <th>Date</th>\n",
              "      <th></th>\n",
              "      <th></th>\n",
              "      <th></th>\n",
              "      <th></th>\n",
              "      <th></th>\n",
              "      <th></th>\n",
              "      <th></th>\n",
              "      <th></th>\n",
              "      <th></th>\n",
              "      <th></th>\n",
              "      <th></th>\n",
              "      <th></th>\n",
              "    </tr>\n",
              "  </thead>\n",
              "  <tbody>\n",
              "    <tr>\n",
              "      <th>2020-06-24</th>\n",
              "      <td>51900.0</td>\n",
              "      <td>53900.0</td>\n",
              "      <td>51600.0</td>\n",
              "      <td>52900.0</td>\n",
              "      <td>24519552.0</td>\n",
              "      <td>0.029183</td>\n",
              "      <td>1944.30</td>\n",
              "      <td>1976.63</td>\n",
              "      <td>1988.23</td>\n",
              "      <td>1930.69</td>\n",
              "      <td>-</td>\n",
              "      <td>-2.18%</td>\n",
              "    </tr>\n",
              "    <tr>\n",
              "      <th>2020-06-25</th>\n",
              "      <td>52100.0</td>\n",
              "      <td>53000.0</td>\n",
              "      <td>51900.0</td>\n",
              "      <td>51900.0</td>\n",
              "      <td>18541624.0</td>\n",
              "      <td>-0.018904</td>\n",
              "      <td>1961.05</td>\n",
              "      <td>1941.59</td>\n",
              "      <td>1963.72</td>\n",
              "      <td>1914.30</td>\n",
              "      <td>-</td>\n",
              "      <td>0.86%</td>\n",
              "    </tr>\n",
              "    <tr>\n",
              "      <th>2020-06-26</th>\n",
              "      <td>52800.0</td>\n",
              "      <td>53900.0</td>\n",
              "      <td>52200.0</td>\n",
              "      <td>53300.0</td>\n",
              "      <td>21575360.0</td>\n",
              "      <td>0.026975</td>\n",
              "      <td>1921.92</td>\n",
              "      <td>1959.50</td>\n",
              "      <td>1964.01</td>\n",
              "      <td>1917.83</td>\n",
              "      <td>-</td>\n",
              "      <td>-2.00%</td>\n",
              "    </tr>\n",
              "    <tr>\n",
              "      <th>2020-06-29</th>\n",
              "      <td>52500.0</td>\n",
              "      <td>53200.0</td>\n",
              "      <td>52000.0</td>\n",
              "      <td>52400.0</td>\n",
              "      <td>17776925.0</td>\n",
              "      <td>-0.016886</td>\n",
              "      <td>1943.90</td>\n",
              "      <td>1924.80</td>\n",
              "      <td>1944.64</td>\n",
              "      <td>1899.80</td>\n",
              "      <td>-</td>\n",
              "      <td>1.14%</td>\n",
              "    </tr>\n",
              "    <tr>\n",
              "      <th>2020-06-30</th>\n",
              "      <td>53900.0</td>\n",
              "      <td>53900.0</td>\n",
              "      <td>52800.0</td>\n",
              "      <td>52800.0</td>\n",
              "      <td>21157172.0</td>\n",
              "      <td>0.007634</td>\n",
              "      <td>1996.44</td>\n",
              "      <td>1954.54</td>\n",
              "      <td>2002.08</td>\n",
              "      <td>1953.22</td>\n",
              "      <td>-</td>\n",
              "      <td>2.70%</td>\n",
              "    </tr>\n",
              "  </tbody>\n",
              "</table>\n",
              "</div>"
            ],
            "text/plain": [
              "               Open     High      Low  ...   Low_ph  Volume_ph  Change_ph\n",
              "Date                                   ...                               \n",
              "2020-06-24  51900.0  53900.0  51600.0  ...  1930.69          -     -2.18%\n",
              "2020-06-25  52100.0  53000.0  51900.0  ...  1914.30          -      0.86%\n",
              "2020-06-26  52800.0  53900.0  52200.0  ...  1917.83          -     -2.00%\n",
              "2020-06-29  52500.0  53200.0  52000.0  ...  1899.80          -      1.14%\n",
              "2020-06-30  53900.0  53900.0  52800.0  ...  1953.22          -      2.70%\n",
              "\n",
              "[5 rows x 12 columns]"
            ]
          },
          "metadata": {
            "tags": []
          },
          "execution_count": 39
        },
        {
          "output_type": "stream",
          "text": [
            "time: 35.2 ms\n"
          ],
          "name": "stdout"
        }
      ]
    },
    {
      "cell_type": "code",
      "metadata": {
        "id": "1AEN-_7oLgLy",
        "colab_type": "code",
        "colab": {
          "base_uri": "https://localhost:8080/",
          "height": 253
        },
        "outputId": "b2e2e813-65f4-4ca4-9620-5a2aea03b572"
      },
      "source": [
        "corr_18 = corr_data.loc['2018-01-02':'2020-06-30']\n",
        "corr_18.head()"
      ],
      "execution_count": null,
      "outputs": [
        {
          "output_type": "execute_result",
          "data": {
            "text/html": [
              "<div>\n",
              "<style scoped>\n",
              "    .dataframe tbody tr th:only-of-type {\n",
              "        vertical-align: middle;\n",
              "    }\n",
              "\n",
              "    .dataframe tbody tr th {\n",
              "        vertical-align: top;\n",
              "    }\n",
              "\n",
              "    .dataframe thead th {\n",
              "        text-align: right;\n",
              "    }\n",
              "</style>\n",
              "<table border=\"1\" class=\"dataframe\">\n",
              "  <thead>\n",
              "    <tr style=\"text-align: right;\">\n",
              "      <th></th>\n",
              "      <th>Open</th>\n",
              "      <th>High</th>\n",
              "      <th>Low</th>\n",
              "      <th>Close</th>\n",
              "      <th>Volume</th>\n",
              "      <th>Change</th>\n",
              "      <th>Close_ph</th>\n",
              "      <th>Open_ph</th>\n",
              "      <th>High_ph</th>\n",
              "      <th>Low_ph</th>\n",
              "      <th>Volume_ph</th>\n",
              "      <th>Change_ph</th>\n",
              "    </tr>\n",
              "    <tr>\n",
              "      <th>Date</th>\n",
              "      <th></th>\n",
              "      <th></th>\n",
              "      <th></th>\n",
              "      <th></th>\n",
              "      <th></th>\n",
              "      <th></th>\n",
              "      <th></th>\n",
              "      <th></th>\n",
              "      <th></th>\n",
              "      <th></th>\n",
              "      <th></th>\n",
              "      <th></th>\n",
              "    </tr>\n",
              "  </thead>\n",
              "  <tbody>\n",
              "    <tr>\n",
              "      <th>2018-01-02</th>\n",
              "      <td>51380.0</td>\n",
              "      <td>51400.0</td>\n",
              "      <td>50780.0</td>\n",
              "      <td>51020.0</td>\n",
              "      <td>169485.0</td>\n",
              "      <td>0.001177</td>\n",
              "      <td>1287.70</td>\n",
              "      <td>1261.03</td>\n",
              "      <td>1287.74</td>\n",
              "      <td>1258.77</td>\n",
              "      <td>-</td>\n",
              "      <td>2.77%</td>\n",
              "    </tr>\n",
              "    <tr>\n",
              "      <th>2018-01-03</th>\n",
              "      <td>52540.0</td>\n",
              "      <td>52560.0</td>\n",
              "      <td>51420.0</td>\n",
              "      <td>51620.0</td>\n",
              "      <td>200270.0</td>\n",
              "      <td>0.011760</td>\n",
              "      <td>1309.86</td>\n",
              "      <td>1291.66</td>\n",
              "      <td>1310.37</td>\n",
              "      <td>1291.29</td>\n",
              "      <td>-</td>\n",
              "      <td>1.72%</td>\n",
              "    </tr>\n",
              "    <tr>\n",
              "      <th>2018-01-04</th>\n",
              "      <td>52120.0</td>\n",
              "      <td>52180.0</td>\n",
              "      <td>50640.0</td>\n",
              "      <td>51080.0</td>\n",
              "      <td>233909.0</td>\n",
              "      <td>-0.010461</td>\n",
              "      <td>1317.24</td>\n",
              "      <td>1315.27</td>\n",
              "      <td>1321.11</td>\n",
              "      <td>1306.37</td>\n",
              "      <td>-</td>\n",
              "      <td>0.56%</td>\n",
              "    </tr>\n",
              "    <tr>\n",
              "      <th>2018-01-05</th>\n",
              "      <td>51300.0</td>\n",
              "      <td>52120.0</td>\n",
              "      <td>51200.0</td>\n",
              "      <td>52120.0</td>\n",
              "      <td>189623.0</td>\n",
              "      <td>0.020360</td>\n",
              "      <td>1325.71</td>\n",
              "      <td>1321.17</td>\n",
              "      <td>1330.31</td>\n",
              "      <td>1316.13</td>\n",
              "      <td>-</td>\n",
              "      <td>0.64%</td>\n",
              "    </tr>\n",
              "    <tr>\n",
              "      <th>2018-01-08</th>\n",
              "      <td>52400.0</td>\n",
              "      <td>52520.0</td>\n",
              "      <td>51500.0</td>\n",
              "      <td>52020.0</td>\n",
              "      <td>167673.0</td>\n",
              "      <td>-0.001919</td>\n",
              "      <td>1335.54</td>\n",
              "      <td>1323.45</td>\n",
              "      <td>1339.37</td>\n",
              "      <td>1321.97</td>\n",
              "      <td>-</td>\n",
              "      <td>0.74%</td>\n",
              "    </tr>\n",
              "  </tbody>\n",
              "</table>\n",
              "</div>"
            ],
            "text/plain": [
              "               Open     High      Low  ...   Low_ph  Volume_ph  Change_ph\n",
              "Date                                   ...                               \n",
              "2018-01-02  51380.0  51400.0  50780.0  ...  1258.77          -      2.77%\n",
              "2018-01-03  52540.0  52560.0  51420.0  ...  1291.29          -      1.72%\n",
              "2018-01-04  52120.0  52180.0  50640.0  ...  1306.37          -      0.56%\n",
              "2018-01-05  51300.0  52120.0  51200.0  ...  1316.13          -      0.64%\n",
              "2018-01-08  52400.0  52520.0  51500.0  ...  1321.97          -      0.74%\n",
              "\n",
              "[5 rows x 12 columns]"
            ]
          },
          "metadata": {
            "tags": []
          },
          "execution_count": 40
        },
        {
          "output_type": "stream",
          "text": [
            "time: 44.4 ms\n"
          ],
          "name": "stdout"
        }
      ]
    },
    {
      "cell_type": "code",
      "metadata": {
        "id": "0ldaBX-WOSou",
        "colab_type": "code",
        "colab": {
          "base_uri": "https://localhost:8080/",
          "height": 53
        },
        "outputId": "f4c338e9-71f2-4416-906e-61dad7daca3b"
      },
      "source": [
        "corr = lambda p : p['Close'].corr(p['Close_ph'])\n",
        "re_close =  corr(corr_18)\n",
        "\n",
        "print(re_close)"
      ],
      "execution_count": null,
      "outputs": [
        {
          "output_type": "stream",
          "text": [
            "0.7736665462198971\n",
            "time: 4.91 ms\n"
          ],
          "name": "stdout"
        }
      ]
    },
    {
      "cell_type": "code",
      "metadata": {
        "id": "OI11q1PbOZaa",
        "colab_type": "code",
        "colab": {
          "base_uri": "https://localhost:8080/",
          "height": 253
        },
        "outputId": "6aae6993-3bd5-4d67-ecba-a28b7dddcfc2"
      },
      "source": [
        "corr_19 = corr_data.loc['2019-01-02':'2020-06-30']\n",
        "corr_19.head()"
      ],
      "execution_count": null,
      "outputs": [
        {
          "output_type": "execute_result",
          "data": {
            "text/html": [
              "<div>\n",
              "<style scoped>\n",
              "    .dataframe tbody tr th:only-of-type {\n",
              "        vertical-align: middle;\n",
              "    }\n",
              "\n",
              "    .dataframe tbody tr th {\n",
              "        vertical-align: top;\n",
              "    }\n",
              "\n",
              "    .dataframe thead th {\n",
              "        text-align: right;\n",
              "    }\n",
              "</style>\n",
              "<table border=\"1\" class=\"dataframe\">\n",
              "  <thead>\n",
              "    <tr style=\"text-align: right;\">\n",
              "      <th></th>\n",
              "      <th>Open</th>\n",
              "      <th>High</th>\n",
              "      <th>Low</th>\n",
              "      <th>Close</th>\n",
              "      <th>Volume</th>\n",
              "      <th>Change</th>\n",
              "      <th>Close_ph</th>\n",
              "      <th>Open_ph</th>\n",
              "      <th>High_ph</th>\n",
              "      <th>Low_ph</th>\n",
              "      <th>Volume_ph</th>\n",
              "      <th>Change_ph</th>\n",
              "    </tr>\n",
              "    <tr>\n",
              "      <th>Date</th>\n",
              "      <th></th>\n",
              "      <th></th>\n",
              "      <th></th>\n",
              "      <th></th>\n",
              "      <th></th>\n",
              "      <th></th>\n",
              "      <th></th>\n",
              "      <th></th>\n",
              "      <th></th>\n",
              "      <th></th>\n",
              "      <th></th>\n",
              "      <th></th>\n",
              "    </tr>\n",
              "  </thead>\n",
              "  <tbody>\n",
              "    <tr>\n",
              "      <th>2019-01-02</th>\n",
              "      <td>39400.0</td>\n",
              "      <td>39400.0</td>\n",
              "      <td>38550.0</td>\n",
              "      <td>38750.0</td>\n",
              "      <td>7847664.0</td>\n",
              "      <td>0.001292</td>\n",
              "      <td>1165.30</td>\n",
              "      <td>1131.47</td>\n",
              "      <td>1173.52</td>\n",
              "      <td>1131.44</td>\n",
              "      <td>-</td>\n",
              "      <td>0.88%</td>\n",
              "    </tr>\n",
              "    <tr>\n",
              "      <th>2019-01-03</th>\n",
              "      <td>38300.0</td>\n",
              "      <td>38550.0</td>\n",
              "      <td>37450.0</td>\n",
              "      <td>37600.0</td>\n",
              "      <td>12471493.0</td>\n",
              "      <td>-0.029677</td>\n",
              "      <td>1096.03</td>\n",
              "      <td>1136.96</td>\n",
              "      <td>1142.92</td>\n",
              "      <td>1094.59</td>\n",
              "      <td>-</td>\n",
              "      <td>-5.94%</td>\n",
              "    </tr>\n",
              "    <tr>\n",
              "      <th>2019-01-04</th>\n",
              "      <td>37450.0</td>\n",
              "      <td>37600.0</td>\n",
              "      <td>36850.0</td>\n",
              "      <td>37450.0</td>\n",
              "      <td>14108958.0</td>\n",
              "      <td>-0.003989</td>\n",
              "      <td>1143.96</td>\n",
              "      <td>1114.48</td>\n",
              "      <td>1148.45</td>\n",
              "      <td>1111.79</td>\n",
              "      <td>-</td>\n",
              "      <td>4.37%</td>\n",
              "    </tr>\n",
              "    <tr>\n",
              "      <th>2019-01-07</th>\n",
              "      <td>38000.0</td>\n",
              "      <td>38900.0</td>\n",
              "      <td>37800.0</td>\n",
              "      <td>38750.0</td>\n",
              "      <td>12748997.0</td>\n",
              "      <td>0.034713</td>\n",
              "      <td>1166.24</td>\n",
              "      <td>1147.22</td>\n",
              "      <td>1176.75</td>\n",
              "      <td>1143.24</td>\n",
              "      <td>-</td>\n",
              "      <td>1.95%</td>\n",
              "    </tr>\n",
              "    <tr>\n",
              "      <th>2019-01-08</th>\n",
              "      <td>38000.0</td>\n",
              "      <td>39200.0</td>\n",
              "      <td>37950.0</td>\n",
              "      <td>38100.0</td>\n",
              "      <td>12756554.0</td>\n",
              "      <td>-0.016774</td>\n",
              "      <td>1160.55</td>\n",
              "      <td>1177.76</td>\n",
              "      <td>1177.82</td>\n",
              "      <td>1145.38</td>\n",
              "      <td>-</td>\n",
              "      <td>-0.49%</td>\n",
              "    </tr>\n",
              "  </tbody>\n",
              "</table>\n",
              "</div>"
            ],
            "text/plain": [
              "               Open     High      Low  ...   Low_ph  Volume_ph  Change_ph\n",
              "Date                                   ...                               \n",
              "2019-01-02  39400.0  39400.0  38550.0  ...  1131.44          -      0.88%\n",
              "2019-01-03  38300.0  38550.0  37450.0  ...  1094.59          -     -5.94%\n",
              "2019-01-04  37450.0  37600.0  36850.0  ...  1111.79          -      4.37%\n",
              "2019-01-07  38000.0  38900.0  37800.0  ...  1143.24          -      1.95%\n",
              "2019-01-08  38000.0  39200.0  37950.0  ...  1145.38          -     -0.49%\n",
              "\n",
              "[5 rows x 12 columns]"
            ]
          },
          "metadata": {
            "tags": []
          },
          "execution_count": 42
        },
        {
          "output_type": "stream",
          "text": [
            "time: 35.3 ms\n"
          ],
          "name": "stdout"
        }
      ]
    },
    {
      "cell_type": "code",
      "metadata": {
        "id": "M_mXwHuCOhbI",
        "colab_type": "code",
        "colab": {
          "base_uri": "https://localhost:8080/",
          "height": 53
        },
        "outputId": "bcc85dbb-c11d-457f-eb08-2122316ebf0c"
      },
      "source": [
        "corr = lambda p : p['Close'].corr(p['Close_ph'])\n",
        "re_close =  corr(corr_19)\n",
        "\n",
        "print(re_close)"
      ],
      "execution_count": null,
      "outputs": [
        {
          "output_type": "stream",
          "text": [
            "0.8697582902581973\n",
            "time: 4.9 ms\n"
          ],
          "name": "stdout"
        }
      ]
    }
  ]
}